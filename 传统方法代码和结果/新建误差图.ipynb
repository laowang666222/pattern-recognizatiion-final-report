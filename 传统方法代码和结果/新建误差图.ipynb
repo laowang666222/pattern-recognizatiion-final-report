{
 "cells": [
  {
   "cell_type": "code",
   "execution_count": 11,
   "id": "45a1f7cc",
   "metadata": {},
   "outputs": [],
   "source": [
    "import numpy as np\n",
    "import cv2\n",
    "import os"
   ]
  },
  {
   "cell_type": "markdown",
   "id": "6f86b5f1",
   "metadata": {},
   "source": [
    "## 1.读取PS-FCN方法恢复的norm图"
   ]
  },
  {
   "cell_type": "code",
   "execution_count": 12,
   "id": "2f098e02",
   "metadata": {},
   "outputs": [],
   "source": [
    "deep_imgs=[]\n",
    "for i in range(1,11):\n",
    "    path=\"./test/1_\"+str(i)+\".png\"\n",
    "    img=cv2.imread(path)\n",
    "    deep_imgs.append(img)"
   ]
  },
  {
   "cell_type": "markdown",
   "id": "e6489ccf",
   "metadata": {},
   "source": [
    "## 2."
   ]
  },
  {
   "cell_type": "code",
   "execution_count": 13,
   "id": "afb9ca71",
   "metadata": {},
   "outputs": [],
   "source": [
    "right_imgs=[]\n",
    "file_list=['','ballPNG','bearPNG','buddhaPNG','catPNG','cowPNG','gobletPNG','harvestPNG','pot1PNG','pot2PNG','readingPNG']\n",
    "for i in range(1,11):\n",
    "    path=\"./DiLiGenT/pmsData/\"+file_list[i]+\"/Normal_gt.png\"\n",
    "    img=cv2.imread(path)\n",
    "    right_imgs.append(img)\n",
    "    "
   ]
  },
  {
   "cell_type": "code",
   "execution_count": 14,
   "id": "4324e1dd",
   "metadata": {},
   "outputs": [],
   "source": [
    "file_list=['','ballPNG','bearPNG','buddhaPNG','catPNG','cowPNG','gobletPNG','harvestPNG','pot1PNG','pot2PNG','readingPNG']"
   ]
  },
  {
   "cell_type": "code",
   "execution_count": 17,
   "id": "5cd8464d",
   "metadata": {},
   "outputs": [],
   "source": [
    "traditional_imgs=[]\n",
    "for i in range(1,11):\n",
    "    path=\"result/\"+file_list[i]+\"/normal.png\"\n",
    "    img=cv2.imread(path)\n",
    "    traditional_imgs.append(img)"
   ]
  },
  {
   "cell_type": "code",
   "execution_count": 18,
   "id": "571bb3a3",
   "metadata": {},
   "outputs": [],
   "source": [
    "#将图像非物体区域变成黑色的\n",
    "def beblack(img5):\n",
    "    for i in range(512):\n",
    "        for j in range(612):\n",
    "            for k in range(3):\n",
    "                if img5[i][j][k]==128:\n",
    "                    img5[i][j][k]=0"
   ]
  },
  {
   "cell_type": "code",
   "execution_count": 19,
   "id": "7438f67b",
   "metadata": {},
   "outputs": [],
   "source": [
    "if not os.path.exists(\"./\"+\"result/error\"):\n",
    "    os.mkdir(\"./\"+\"result/error\")\n",
    "wight_Img=np.zeros((512,612,3))\n",
    "wight_Img[:] = [255,255,255]\n",
    "for i in range(10):\n",
    "    deep_error=cv2.absdiff(deep_imgs[i],right_imgs[i])\n",
    "    deep_path=\"result/error/wight\"+file_list[i+1]+\"deep_error_.png\"\n",
    "    if not cv2.imwrite(deep_path,wight_Img-deep_error*3):\n",
    "        print(\"nima\")\n",
    "    \n",
    "    tra_error=cv2.absdiff(traditional_imgs[i],right_imgs[i])\n",
    "    beblack(tra_error)\n",
    "    tra_path=\"result/error/wight\"+file_list[i+1]+\"tra_error_.png\"\n",
    "    cv2.imwrite(tra_path,wight_Img-tra_error*3)"
   ]
  },
  {
   "cell_type": "code",
   "execution_count": null,
   "id": "51742aa0",
   "metadata": {},
   "outputs": [],
   "source": []
  }
 ],
 "metadata": {
  "kernelspec": {
   "display_name": "Python 3 (ipykernel)",
   "language": "python",
   "name": "python3"
  },
  "language_info": {
   "codemirror_mode": {
    "name": "ipython",
    "version": 3
   },
   "file_extension": ".py",
   "mimetype": "text/x-python",
   "name": "python",
   "nbconvert_exporter": "python",
   "pygments_lexer": "ipython3",
   "version": "3.9.10"
  },
  "varInspector": {
   "cols": {
    "lenName": 16,
    "lenType": 16,
    "lenVar": 40
   },
   "kernels_config": {
    "python": {
     "delete_cmd_postfix": "",
     "delete_cmd_prefix": "del ",
     "library": "var_list.py",
     "varRefreshCmd": "print(var_dic_list())"
    },
    "r": {
     "delete_cmd_postfix": ") ",
     "delete_cmd_prefix": "rm(",
     "library": "var_list.r",
     "varRefreshCmd": "cat(var_dic_list()) "
    }
   },
   "types_to_exclude": [
    "module",
    "function",
    "builtin_function_or_method",
    "instance",
    "_Feature"
   ],
   "window_display": false
  }
 },
 "nbformat": 4,
 "nbformat_minor": 5
}

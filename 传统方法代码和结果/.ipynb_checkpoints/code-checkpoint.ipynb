{
 "cells": [
  {
   "cell_type": "code",
   "execution_count": 1,
   "metadata": {},
   "outputs": [],
   "source": [
    "import numpy as np\n",
    "import cv2 \n",
    "import os\n",
    "from scipy import sparse\n",
    "from sklearn.preprocessing import normalize\n",
    "import scipy\n",
    "import tqdm"
   ]
  },
  {
   "cell_type": "code",
   "execution_count": 2,
   "metadata": {},
   "outputs": [],
   "source": [
    "class Dataset():\n",
    "    def __init__(self,root=\"./DiLiGenT/pmsData/ballPNG\"):\n",
    "        self.img=[]\n",
    "        self.directions=[]\n",
    "        self.intensities=[]\n",
    "        dir_direction=os.path.join(root,\"light_directions.txt\")\n",
    "        dir_intensity=os.path.join(root,\"light_intensities.txt\")\n",
    "        dir_mask=os.path.join(root,\"mask.png\")\n",
    "        file_list=os.path.join(root,\"filenames.txt\")\n",
    "        self.directions=np.array(self.load_txt(dir=dir_direction))\n",
    "        self.intensities=np.array(self.load_txt(dir=dir_intensity))\n",
    "        self.load_img(root=root,dir=file_list)\n",
    "        self.H,self.W,_=self.img[0].shape\n",
    "        self.load_mask(filename=dir_mask)\n",
    "    def load_txt(self,dir=\"\"):\n",
    "        txt_list=[]\n",
    "        with open(dir) as f:\n",
    "            txt_list=f.read().splitlines()\n",
    "            for i in range(len(txt_list)):\n",
    "                txt_list[i]=txt_list[i].split()\n",
    "                txt_list[i]=[float(x) for x in txt_list[i]]\n",
    "        return txt_list\n",
    "    def load_img(self,root=\"\",dir=\"\"):\n",
    "        with open(dir) as f:\n",
    "            img_dirs=f.read().splitlines()\n",
    "        for img_dir in img_dirs:\n",
    "            img_path=os.path.join(root,img_dir)\n",
    "            img=cv2.imread(img_path)\n",
    "            self.img.append(img)\n",
    "    def load_mask(self, filename=None):\n",
    "        self.mask=cv2.imread(filename,0)\n",
    "        mask=self.mask.reshape((-1,1))\n",
    "        self.foreground_ind=np.where(mask != 0)[0]\n",
    "        self.background_ind=np.where(mask == 0)[0]\n",
    "    def normal_imags(self):\n",
    "        for i in tqdm.tqdm(range(len(self.intensities))):\n",
    "            intensity=self.intensities[i]\n",
    "            img=self.img[i]\n",
    "            h,w,_=img.shape\n",
    "            for j in range(h):\n",
    "                for k in range(w):\n",
    "                    img[j,k]=img[j,k]/intensity"
   ]
  },
  {
   "cell_type": "code",
   "execution_count": 3,
   "metadata": {},
   "outputs": [],
   "source": [
    "def get_normal(img,directions,background_ind):\n",
    "    imgs=[np.mean(x,axis=2) for x in img]\n",
    "    img=None\n",
    "    H, W = imgs[0].shape\n",
    "    for i in tqdm.tqdm(range(len(imgs))):\n",
    "        if img is None:\n",
    "            img = imgs[i].reshape((-1, 1))\n",
    "        else:\n",
    "            img = np.append(img, imgs[i].reshape((-1, 1)), axis=1)\n",
    "    \n",
    "    N = scipy.linalg.lstsq(directions, img.T)[0].T\n",
    "    N = normalize(N, axis=1)  # normalize to account for diffuse reflectance\n",
    "    if background_ind is not None:\n",
    "        for i in range(N.shape[1]):\n",
    "            N[background_ind, i] = 0\n",
    "        \n",
    "    N = np.reshape(N, (H, W, 3))\n",
    "    return N"
   ]
  },
  {
   "cell_type": "code",
   "execution_count": 4,
   "metadata": {},
   "outputs": [],
   "source": [
    "def save_depth(depth,save_dir=\"\"):\n",
    "    if save_dir is \"\":\n",
    "        raise Exception(\"FilePathNULL\")\n",
    "    h,w=depth.shape\n",
    "    f = open(save_dir, 'w')\n",
    "    for i in tqdm.tqdm(range(h)):\n",
    "        for j in range(w):\n",
    "            if depth[i, j] > 0:\n",
    "                seq = 'v' + ' ' + str(float(i)) + ' ' + str(float(j)) + ' ' + str(depth[i, j]) + '\\n'\n",
    "                f.writelines(seq)"
   ]
  },
  {
   "cell_type": "code",
   "execution_count": 5,
   "metadata": {},
   "outputs": [],
   "source": [
    "def compute_depth(N,mask):\n",
    "    H,W= mask.shape\n",
    "    # 得到掩膜图像非零值索引（即物体区域的索引）\n",
    "    obj_h, obj_w = np.where(mask != 0)\n",
    "    # 得到非零元素的数量\n",
    "    no_pix = np.size(obj_h)\n",
    "    # 构建一个矩阵 里面的元素值是掩膜图像索引的值\n",
    "    index = np.zeros((H, W))\n",
    "    for idx in range(no_pix):\n",
    "        index[obj_h[idx], obj_w[idx]] = idx\n",
    "    M = sparse.lil_matrix((2*no_pix, no_pix))\n",
    "    v = np.zeros((2*no_pix, 1))\n",
    "\n",
    "    for idx in tqdm.tqdm(range(no_pix)):\n",
    "        h = obj_h[idx]\n",
    "        w = obj_w[idx]\n",
    "        n_x = N[h,w,0]\n",
    "        n_y = N[h,w,1]\n",
    "        n_z = N[h,w,2]+1e-8\n",
    "        if index[h,w+1] and index[h-1,w]:\n",
    "            M[2*idx, index[h,w]]=(n_z+1e-8)\n",
    "            M[2*idx, index[h,w+1]]=-(n_z+1e-8)\n",
    "            v[2*idx,0]=n_x\n",
    "\n",
    "            M[2*idx+1, index[h,w]]=(n_z+1e-8)\n",
    "            M[2*idx+1, index[h-1,w]]=-(n_z+1e-8)\n",
    "            v[2*idx+1,0]=n_y\n",
    "        elif index[h-1,w]:\n",
    "            f = -1\n",
    "            if index[h, w+f]:\n",
    "                M[2*idx, index[h, w]] = (n_z+1e-8)\n",
    "                M[2*idx, index[h, w+f]]= -(n_z+1e-8)\n",
    "                v[2*idx, 0] = f * n_x \n",
    "            M[2*idx+1, index[h, w]] = (n_z+1e-8)\n",
    "            M[2*idx+1, index[h-1, w]]= -(n_z+1e-8)\n",
    "            v[2*idx+1, 0] = n_y \n",
    "        elif index[h, w+1]:\n",
    "            f = -1\n",
    "            if index[h-f, w]:\n",
    "                M[2*idx, index[h, w]] = (n_z+1e-8)\n",
    "                M[2*idx, index[h-f, w]]= -(n_z+1e-8)\n",
    "                v[2*idx, 0] = f * n_y \n",
    "            M[2*idx+1, index[h, w]] = (n_z+1e-8)\n",
    "            M[2*idx+1, index[h, w+1]]= -(n_z+1e-8)\n",
    "            v[2*idx+1, 0] = n_x \n",
    "        else:\n",
    "            f = -1\n",
    "            if index[h, w+f]:\n",
    "                M[2*idx, index[h, w]] = (n_z+1e-8)\n",
    "                M[2*idx, index[h, w+f]]= -(n_z+1e-8)\n",
    "                v[2*idx, 0] = f * n_x \n",
    "            if index[h-f, w]:\n",
    "                M[2*idx+1, index[h, w]] = (n_z+1e-8)\n",
    "                M[2*idx+1, index[h-f, w]]= -(n_z+1e-8)\n",
    "                v[2*idx+1, 0] = f * n_y \n",
    "    A=M.T.dot(M)\n",
    "    B=M.T.dot(v)\n",
    "    z=sparse.linalg.spsolve(A,B)\n",
    "    # z=(z-min(z))/(max(z)-min(z))\n",
    "    z = z - min(z)\n",
    "    depth=np.zeros((H,W))\n",
    "    for idx in range(no_pix):\n",
    "        # 2D图像中的位置\n",
    "        h = obj_h[idx]\n",
    "        w = obj_w[idx]\n",
    "        depth[h, w] = z[idx]\n",
    "    return depth"
   ]
  },
  {
   "cell_type": "code",
   "execution_count": 6,
   "metadata": {},
   "outputs": [
    {
     "name": "stdout",
     "output_type": "stream",
     "text": [
      "Start bearPNG\n",
      "-----normal images-----\n"
     ]
    },
    {
     "name": "stderr",
     "output_type": "stream",
     "text": [
      "  9%|▉         | 9/96 [00:04<00:42,  2.06it/s]\n"
     ]
    },
    {
     "ename": "KeyboardInterrupt",
     "evalue": "",
     "output_type": "error",
     "traceback": [
      "\u001b[0;31m---------------------------------------------------------------------------\u001b[0m",
      "\u001b[0;31mKeyboardInterrupt\u001b[0m                         Traceback (most recent call last)",
      "\u001b[0;32m/var/folders/09/5xs8w4nx6gbd75h3gz_p_svw0000gp/T/ipykernel_49692/2241663982.py\u001b[0m in \u001b[0;36m<module>\u001b[0;34m\u001b[0m\n\u001b[1;32m     12\u001b[0m     \u001b[0mdataset\u001b[0m\u001b[0;34m=\u001b[0m\u001b[0mDataset\u001b[0m\u001b[0;34m(\u001b[0m\u001b[0mroot\u001b[0m\u001b[0;34m=\u001b[0m\u001b[0mimg_dir\u001b[0m\u001b[0;34m)\u001b[0m\u001b[0;34m\u001b[0m\u001b[0;34m\u001b[0m\u001b[0m\n\u001b[1;32m     13\u001b[0m     \u001b[0mprint\u001b[0m\u001b[0;34m(\u001b[0m\u001b[0;34m\"-----normal images-----\"\u001b[0m\u001b[0;34m)\u001b[0m\u001b[0;34m\u001b[0m\u001b[0;34m\u001b[0m\u001b[0m\n\u001b[0;32m---> 14\u001b[0;31m     \u001b[0mdataset\u001b[0m\u001b[0;34m.\u001b[0m\u001b[0mnormal_imags\u001b[0m\u001b[0;34m(\u001b[0m\u001b[0;34m)\u001b[0m\u001b[0;34m\u001b[0m\u001b[0;34m\u001b[0m\u001b[0m\n\u001b[0m\u001b[1;32m     15\u001b[0m     \u001b[0mprint\u001b[0m\u001b[0;34m(\u001b[0m\u001b[0;34m\"-----compute normal-----\"\u001b[0m\u001b[0;34m)\u001b[0m\u001b[0;34m\u001b[0m\u001b[0;34m\u001b[0m\u001b[0m\n\u001b[1;32m     16\u001b[0m     \u001b[0mN\u001b[0m\u001b[0;34m=\u001b[0m\u001b[0mget_normal\u001b[0m\u001b[0;34m(\u001b[0m\u001b[0mdataset\u001b[0m\u001b[0;34m.\u001b[0m\u001b[0mimg\u001b[0m\u001b[0;34m,\u001b[0m\u001b[0mdataset\u001b[0m\u001b[0;34m.\u001b[0m\u001b[0mdirections\u001b[0m\u001b[0;34m,\u001b[0m\u001b[0mdataset\u001b[0m\u001b[0;34m.\u001b[0m\u001b[0mbackground_ind\u001b[0m\u001b[0;34m)\u001b[0m\u001b[0;34m\u001b[0m\u001b[0;34m\u001b[0m\u001b[0m\n",
      "\u001b[0;32m/var/folders/09/5xs8w4nx6gbd75h3gz_p_svw0000gp/T/ipykernel_49692/723521638.py\u001b[0m in \u001b[0;36mnormal_imags\u001b[0;34m(self)\u001b[0m\n\u001b[1;32m     40\u001b[0m             \u001b[0;32mfor\u001b[0m \u001b[0mj\u001b[0m \u001b[0;32min\u001b[0m \u001b[0mrange\u001b[0m\u001b[0;34m(\u001b[0m\u001b[0mh\u001b[0m\u001b[0;34m)\u001b[0m\u001b[0;34m:\u001b[0m\u001b[0;34m\u001b[0m\u001b[0;34m\u001b[0m\u001b[0m\n\u001b[1;32m     41\u001b[0m                 \u001b[0;32mfor\u001b[0m \u001b[0mk\u001b[0m \u001b[0;32min\u001b[0m \u001b[0mrange\u001b[0m\u001b[0;34m(\u001b[0m\u001b[0mw\u001b[0m\u001b[0;34m)\u001b[0m\u001b[0;34m:\u001b[0m\u001b[0;34m\u001b[0m\u001b[0;34m\u001b[0m\u001b[0m\n\u001b[0;32m---> 42\u001b[0;31m                     \u001b[0mimg\u001b[0m\u001b[0;34m[\u001b[0m\u001b[0mj\u001b[0m\u001b[0;34m,\u001b[0m\u001b[0mk\u001b[0m\u001b[0;34m]\u001b[0m\u001b[0;34m=\u001b[0m\u001b[0mimg\u001b[0m\u001b[0;34m[\u001b[0m\u001b[0mj\u001b[0m\u001b[0;34m,\u001b[0m\u001b[0mk\u001b[0m\u001b[0;34m]\u001b[0m\u001b[0;34m/\u001b[0m\u001b[0mintensity\u001b[0m\u001b[0;34m\u001b[0m\u001b[0;34m\u001b[0m\u001b[0m\n\u001b[0m",
      "\u001b[0;31mKeyboardInterrupt\u001b[0m: "
     ]
    }
   ],
   "source": [
    "root=\"./DiLiGenT/pmsData/\"\n",
    "file_list=os.listdir(\"./DiLiGenT/pmsData/\")\n",
    "for i in range(len(file_list)):\n",
    "    if file_list[i][-3:]!= \"PNG\":\n",
    "        continue\n",
    "    else:\n",
    "        print(\"Start\",file_list[i])\n",
    "    if not os.path.exists(\"./\"+file_list[i]):\n",
    "        os.mkdir(\"./\"+file_list[i])\n",
    "    img_dir=os.path.join(root,file_list[i])\n",
    "    save_dir=\"./\"+file_list[i]+\".obj\"\n",
    "    dataset=Dataset(root=img_dir)\n",
    "    print(\"-----normal images-----\")\n",
    "    dataset.normal_imags()\n",
    "    print(\"-----compute normal-----\")\n",
    "    N=get_normal(dataset.img,dataset.directions,dataset.background_ind)\n",
    "    # N=normal\n",
    "    print(\"-----comput depth-----\")\n",
    "    depth=compute_depth(N,dataset.mask)\n",
    "    save_depth(depth,save_dir)\n",
    "    N[:,:,0], N[:,:,2] = N[:,:,2], N[:,:,0].copy()\n",
    "    N = (N + 1.0) / 2.0\n",
    "    cv2.imwrite(\"./\"+file_list[i]+\"_normal.png\",N*255)\n",
    "    # cv2.imwrite(\"./\"+file_list[i]+\"_depth.png\",depth*255)"
   ]
  }
 ],
 "metadata": {
  "interpreter": {
   "hash": "5d927dc926799e60da040a66fad171adb88ee16bf22818d05d7080f329057c67"
  },
  "kernelspec": {
   "display_name": "Python 3 (ipykernel)",
   "language": "python",
   "name": "python3"
  },
  "language_info": {
   "codemirror_mode": {
    "name": "ipython",
    "version": 3
   },
   "file_extension": ".py",
   "mimetype": "text/x-python",
   "name": "python",
   "nbconvert_exporter": "python",
   "pygments_lexer": "ipython3",
   "version": "3.9.10"
  },
  "varInspector": {
   "cols": {
    "lenName": 16,
    "lenType": 16,
    "lenVar": 40
   },
   "kernels_config": {
    "python": {
     "delete_cmd_postfix": "",
     "delete_cmd_prefix": "del ",
     "library": "var_list.py",
     "varRefreshCmd": "print(var_dic_list())"
    },
    "r": {
     "delete_cmd_postfix": ") ",
     "delete_cmd_prefix": "rm(",
     "library": "var_list.r",
     "varRefreshCmd": "cat(var_dic_list()) "
    }
   },
   "types_to_exclude": [
    "module",
    "function",
    "builtin_function_or_method",
    "instance",
    "_Feature"
   ],
   "window_display": false
  }
 },
 "nbformat": 4,
 "nbformat_minor": 2
}

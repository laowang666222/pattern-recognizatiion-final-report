{
 "cells": [
  {
   "cell_type": "code",
   "execution_count": 1,
   "metadata": {},
   "outputs": [
    {
     "name": "stderr",
     "output_type": "stream",
     "text": [
      "/Users/wangluming/Desktop/大三上课程/CV/BIT3D_Reconstruction-main/PS.py:97: SyntaxWarning: \"is\" with a literal. Did you mean \"==\"?\n",
      "  if save_dir is \"\":\n"
     ]
    }
   ],
   "source": [
    "import numpy as np\n",
    "import cv2 \n",
    "import os\n",
    "from scipy import sparse\n",
    "from sklearn.preprocessing import normalize\n",
    "import scipy\n",
    "import tqdm\n",
    "from PS import *\n",
    "from dataset import Dataset"
   ]
  },
  {
   "cell_type": "code",
   "execution_count": null,
   "metadata": {},
   "outputs": [
    {
     "name": "stdout",
     "output_type": "stream",
     "text": [
      "Start bearPNG\n",
      "-----normal images-----\n"
     ]
    },
    {
     "name": "stderr",
     "output_type": "stream",
     "text": [
      "100%|███████████████████████████████████████████| 96/96 [00:20<00:00,  4.60it/s]\n"
     ]
    },
    {
     "name": "stdout",
     "output_type": "stream",
     "text": [
      "-----compute normal-----\n"
     ]
    },
    {
     "name": "stderr",
     "output_type": "stream",
     "text": [
      "100%|███████████████████████████████████████████| 96/96 [00:02<00:00, 47.33it/s]\n"
     ]
    },
    {
     "name": "stdout",
     "output_type": "stream",
     "text": [
      "-----comput depth-----\n"
     ]
    },
    {
     "name": "stderr",
     "output_type": "stream",
     "text": [
      "100%|██████████████████████████████████| 41512/41512 [00:01<00:00, 35218.61it/s]\n",
      "100%|███████████████████████████████████████| 512/512 [00:00<00:00, 3578.69it/s]\n"
     ]
    },
    {
     "name": "stdout",
     "output_type": "stream",
     "text": [
      "Start cowPNG\n",
      "-----normal images-----\n"
     ]
    },
    {
     "name": "stderr",
     "output_type": "stream",
     "text": [
      "100%|███████████████████████████████████████████| 96/96 [00:20<00:00,  4.64it/s]\n"
     ]
    },
    {
     "name": "stdout",
     "output_type": "stream",
     "text": [
      "-----compute normal-----\n"
     ]
    },
    {
     "name": "stderr",
     "output_type": "stream",
     "text": [
      "100%|███████████████████████████████████████████| 96/96 [00:01<00:00, 57.71it/s]\n"
     ]
    },
    {
     "name": "stdout",
     "output_type": "stream",
     "text": [
      "-----comput depth-----\n"
     ]
    },
    {
     "name": "stderr",
     "output_type": "stream",
     "text": [
      "100%|██████████████████████████████████| 26421/26421 [00:00<00:00, 35159.47it/s]\n",
      "100%|███████████████████████████████████████| 512/512 [00:00<00:00, 4648.71it/s]\n"
     ]
    },
    {
     "name": "stdout",
     "output_type": "stream",
     "text": [
      "Start catPNG\n",
      "-----normal images-----\n"
     ]
    },
    {
     "name": "stderr",
     "output_type": "stream",
     "text": [
      "100%|███████████████████████████████████████████| 96/96 [00:20<00:00,  4.61it/s]\n"
     ]
    },
    {
     "name": "stdout",
     "output_type": "stream",
     "text": [
      "-----compute normal-----\n"
     ]
    },
    {
     "name": "stderr",
     "output_type": "stream",
     "text": [
      "100%|███████████████████████████████████████████| 96/96 [00:01<00:00, 52.68it/s]\n"
     ]
    },
    {
     "name": "stdout",
     "output_type": "stream",
     "text": [
      "-----comput depth-----\n"
     ]
    },
    {
     "name": "stderr",
     "output_type": "stream",
     "text": [
      "100%|██████████████████████████████████| 45200/45200 [00:01<00:00, 35534.06it/s]\n",
      "100%|███████████████████████████████████████| 512/512 [00:00<00:00, 3376.62it/s]\n"
     ]
    },
    {
     "name": "stdout",
     "output_type": "stream",
     "text": [
      "Start readingPNG\n",
      "-----normal images-----\n"
     ]
    },
    {
     "name": "stderr",
     "output_type": "stream",
     "text": [
      "100%|███████████████████████████████████████████| 96/96 [00:20<00:00,  4.59it/s]\n"
     ]
    },
    {
     "name": "stdout",
     "output_type": "stream",
     "text": [
      "-----compute normal-----\n"
     ]
    },
    {
     "name": "stderr",
     "output_type": "stream",
     "text": [
      "100%|███████████████████████████████████████████| 96/96 [00:01<00:00, 55.93it/s]\n"
     ]
    },
    {
     "name": "stdout",
     "output_type": "stream",
     "text": [
      "-----comput depth-----\n"
     ]
    },
    {
     "name": "stderr",
     "output_type": "stream",
     "text": [
      "100%|██████████████████████████████████| 27654/27654 [00:00<00:00, 34340.72it/s]\n",
      "100%|███████████████████████████████████████| 512/512 [00:00<00:00, 4401.28it/s]\n"
     ]
    },
    {
     "name": "stdout",
     "output_type": "stream",
     "text": [
      "Start pot1PNG\n",
      "-----normal images-----\n"
     ]
    },
    {
     "name": "stderr",
     "output_type": "stream",
     "text": [
      " 20%|████████▌                                  | 19/96 [00:04<00:16,  4.57it/s]"
     ]
    }
   ],
   "source": [
    "root=\"./DiLiGenT/pmsData/\"\n",
    "file_list=os.listdir(\"./DiLiGenT/pmsData/\")\n",
    "for i in range(len(file_list)):\n",
    "    if file_list[i][-3:]!= \"PNG\":\n",
    "        continue\n",
    "    else:\n",
    "        print(\"Start\",file_list[i])\n",
    "    if not os.path.exists(\"./\"+file_list[i]):\n",
    "        os.mkdir(\"./\"+file_list[i])\n",
    "    img_dir=os.path.join(root,file_list[i])\n",
    "    save_dir=\"./\"+file_list[i]+\".obj\"\n",
    "    dataset=Dataset(root=img_dir)\n",
    "    print(\"-----normal images-----\")\n",
    "    dataset.normal_imags()\n",
    "    print(\"-----compute normal-----\")\n",
    "    N=get_normal(dataset.img,dataset.directions,dataset.background_ind)\n",
    "    # N=normal\n",
    "    print(\"-----comput depth-----\")\n",
    "    depth=compute_depth(N,dataset.mask)\n",
    "    save_depth(depth,save_dir)\n",
    "    N[:,:,0], N[:,:,2] = N[:,:,2], N[:,:,0].copy()\n",
    "    N = (N + 1.0) / 2.0\n",
    "    cv2.imwrite(\"./\"+file_list[i]+\"_normal.png\",N*255)\n",
    "    cv2.imwrite(\"./\"+file_list[i]+\"_depth.png\",depth*255)"
   ]
  },
  {
   "cell_type": "code",
   "execution_count": null,
   "metadata": {},
   "outputs": [],
   "source": []
  }
 ],
 "metadata": {
  "interpreter": {
   "hash": "5d927dc926799e60da040a66fad171adb88ee16bf22818d05d7080f329057c67"
  },
  "kernelspec": {
   "display_name": "Python 3 (ipykernel)",
   "language": "python",
   "name": "python3"
  },
  "language_info": {
   "codemirror_mode": {
    "name": "ipython",
    "version": 3
   },
   "file_extension": ".py",
   "mimetype": "text/x-python",
   "name": "python",
   "nbconvert_exporter": "python",
   "pygments_lexer": "ipython3",
   "version": "3.9.10"
  },
  "varInspector": {
   "cols": {
    "lenName": 16,
    "lenType": 16,
    "lenVar": 40
   },
   "kernels_config": {
    "python": {
     "delete_cmd_postfix": "",
     "delete_cmd_prefix": "del ",
     "library": "var_list.py",
     "varRefreshCmd": "print(var_dic_list())"
    },
    "r": {
     "delete_cmd_postfix": ") ",
     "delete_cmd_prefix": "rm(",
     "library": "var_list.r",
     "varRefreshCmd": "cat(var_dic_list()) "
    }
   },
   "types_to_exclude": [
    "module",
    "function",
    "builtin_function_or_method",
    "instance",
    "_Feature"
   ],
   "window_display": false
  }
 },
 "nbformat": 4,
 "nbformat_minor": 2
}

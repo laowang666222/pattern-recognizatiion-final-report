{
 "cells": [
  {
   "cell_type": "code",
   "execution_count": 2,
   "metadata": {},
   "outputs": [],
   "source": [
    "import numpy as np\n",
    "# import cv2 \n",
    "import os\n",
    "from scipy import sparse\n",
    "from sklearn.preprocessing import normalize\n",
    "import scipy\n",
    "import tqdm"
   ]
  },
  {
   "cell_type": "code",
   "execution_count": 5,
   "metadata": {},
   "outputs": [
    {
     "data": {
      "text/plain": [
       "array([0, 1])"
      ]
     },
     "execution_count": 5,
     "metadata": {},
     "output_type": "execute_result"
    }
   ],
   "source": [
    "lumask=np.array([[1,0,0],[0,1,0],[0,0,0]])\n",
    "np.where(lumask!=0)[0]"
   ]
  },
  {
   "cell_type": "markdown",
   "metadata": {},
   "source": [
    "## 1.数据集导入"
   ]
  },
  {
   "cell_type": "code",
   "execution_count": 2,
   "metadata": {},
   "outputs": [],
   "source": [
    "class Dataset():\n",
    "    def __init__(self,root=\"./DiLiGenT/pmsData/ballPNG\"):\n",
    "        self.img=[]\n",
    "        self.directions=[]\n",
    "        self.intensities=[]\n",
    "        dir_direction=os.path.join(root,\"light_directions.txt\")\n",
    "        dir_intensity=os.path.join(root,\"light_intensities.txt\")\n",
    "        #mask指出物体在图片中区域\n",
    "        dir_mask=os.path.join(root,\"mask.png\")\n",
    "        file_list=os.path.join(root,\"filenames.txt\")\n",
    "        self.directions=np.array(self.load_txt(dir=dir_direction))\n",
    "        self.intensities=np.array(self.load_txt(dir=dir_intensity))\n",
    "        self.load_img(root=root,dir=file_list)\n",
    "        self.H,self.W,_=self.img[0].shape\n",
    "        self.load_mask(filename=dir_mask)\n",
    "    def load_txt(self,dir=\"\"):\n",
    "        txt_list=[]\n",
    "        with open(dir) as f:\n",
    "            txt_list=f.read().splitlines()\n",
    "            for i in range(len(txt_list)):\n",
    "                txt_list[i]=txt_list[i].split()\n",
    "                txt_list[i]=[float(x) for x in txt_list[i]]\n",
    "        return txt_list\n",
    "    def load_img(self,root=\"\",dir=\"\"):\n",
    "        with open(dir) as f:\n",
    "            img_dirs=f.read().splitlines()\n",
    "        for img_dir in img_dirs:\n",
    "            img_path=os.path.join(root,img_dir)\n",
    "            img=cv2.imread(img_path)\n",
    "            self.img.append(img)\n",
    "    def load_mask(self, filename=None):\n",
    "        self.mask=cv2.imread(filename,0)\n",
    "        mask=self.mask.reshape((-1,1))\n",
    "        self.foreground_ind=np.where(mask != 0)[0]\n",
    "        self.background_ind=np.where(mask == 0)[0]\n",
    "    def normal_imags(self):\n",
    "        for i in tqdm.tqdm(range(len(self.intensities))):\n",
    "            intensity=self.intensities[i]\n",
    "            \n",
    "            img=self.img[i]\n",
    "            h,w,_=img.shape\n",
    "            for j in range(h):\n",
    "                for k in range(w):\n",
    "                   \n",
    "                    img[j,k]=img[j,k]/intensity"
   ]
  },
  {
   "cell_type": "markdown",
   "metadata": {},
   "source": [
    "## 2.法向量map计算"
   ]
  },
  {
   "cell_type": "code",
   "execution_count": 3,
   "metadata": {},
   "outputs": [],
   "source": [
    "def get_normal(img,directions,background_ind):\n",
    "    print(np.array(img).shape)\n",
    "    imgs=[np.mean(x,axis=2) for x in img]\n",
    "    print(np.array(imgs).shape)\n",
    "    img=None\n",
    "    H, W = imgs[0].shape\n",
    "    for i in tqdm.tqdm(range(len(imgs))):\n",
    "        if img is None:\n",
    "            img = imgs[i].reshape((-1, 1))\n",
    "        else:\n",
    "            img = np.append(img, imgs[i].reshape((-1, 1)), axis=1)\n",
    "    print(img.shape)\n",
    "    N = scipy.linalg.lstsq(directions, img.T)[0].T\n",
    "    N = normalize(N, axis=1)  \n",
    "    #让所有的非物体上的法向量为0\n",
    "    if background_ind is not None:\n",
    "        for i in range(N.shape[1]):\n",
    "            N[background_ind, i] = 0\n",
    "        \n",
    "    #应该便于索引\n",
    "    N = np.reshape(N, (H, W, 3))\n",
    "    return N"
   ]
  },
  {
   "cell_type": "markdown",
   "metadata": {},
   "source": [
    "## 3.根据法向量恢复深度"
   ]
  },
  {
   "cell_type": "code",
   "execution_count": 5,
   "metadata": {},
   "outputs": [],
   "source": [
    "def compute_depth(N,mask):\n",
    "    H,W= mask.shape\n",
    "    # 得到掩膜图像非零值索引（即物体区域的索引）\n",
    "    obj_h, obj_w = np.where(mask != 0)\n",
    "    # 得到非零元素的数量\n",
    "    no_pix = np.size(obj_h)\n",
    "    # 构建一个矩阵 里面的元素值是掩膜图像索引的值\n",
    "    index = np.zeros((H, W))\n",
    "    for idx in range(no_pix):\n",
    "        index[obj_h[idx], obj_w[idx]] = idx\n",
    "        \n",
    "    #稀疏矩阵\n",
    "    M = sparse.lil_matrix((2*no_pix, no_pix))\n",
    "    v = np.zeros((2*no_pix, 1))\n",
    "\n",
    "    for idx in tqdm.tqdm(range(no_pix)):\n",
    "        h = obj_h[idx]\n",
    "        w = obj_w[idx]\n",
    "        n_x = N[h,w,0]\n",
    "        n_y = N[h,w,1]\n",
    "        n_z = N[h,w,2]+1e-8\n",
    "        #分情况讨论，看看像素点是否在边界上或者物体内或者物体外\n",
    "        if index[h,w+1] and index[h-1,w]:\n",
    "            M[2*idx, index[h,w]]=(n_z+1e-8)\n",
    "            M[2*idx, index[h,w+1]]=-(n_z+1e-8)\n",
    "            v[2*idx,0]=n_x\n",
    "\n",
    "            M[2*idx+1, index[h,w]]=(n_z+1e-8)\n",
    "            M[2*idx+1, index[h-1,w]]=-(n_z+1e-8)\n",
    "            v[2*idx+1,0]=n_y\n",
    "        #在物体边界，看看另一个方向上的点在不在物体内，在，则用另一个点算，否则为0\n",
    "        elif index[h-1,w]:\n",
    "            f = -1\n",
    "            if index[h, w+f]:\n",
    "                M[2*idx, index[h, w]] = (n_z+1e-8)\n",
    "                M[2*idx, index[h, w+f]]= -(n_z+1e-8)\n",
    "                v[2*idx, 0] = f * n_x \n",
    "            M[2*idx+1, index[h, w]] = (n_z+1e-8)\n",
    "            M[2*idx+1, index[h-1, w]]= -(n_z+1e-8)\n",
    "            v[2*idx+1, 0] = n_y \n",
    "            \n",
    "        elif index[h, w+1]:\n",
    "            f = -1\n",
    "            if index[h-f, w]:\n",
    "                M[2*idx, index[h, w]] = (n_z+1e-8)\n",
    "                M[2*idx, index[h-f, w]]= -(n_z+1e-8)\n",
    "                v[2*idx, 0] = f * n_y \n",
    "            M[2*idx+1, index[h, w]] = (n_z+1e-8)\n",
    "            M[2*idx+1, index[h, w+1]]= -(n_z+1e-8)\n",
    "            v[2*idx+1, 0] = n_x \n",
    "        #都是0，看看另一个方向上点有没有在物体内的，在就把式子写进去。\n",
    "        else:\n",
    "            f = -1\n",
    "            if index[h, w+f]:\n",
    "                M[2*idx, index[h, w]] = (n_z+1e-8)\n",
    "                M[2*idx, index[h, w+f]]= -(n_z+1e-8)\n",
    "                v[2*idx, 0] = f * n_x \n",
    "            if index[h-f, w]:\n",
    "                M[2*idx+1, index[h, w]] = (n_z+1e-8)\n",
    "                M[2*idx+1, index[h-f, w]]= -(n_z+1e-8)\n",
    "                v[2*idx+1, 0] = f * n_y \n",
    "    #填完矩阵就解方程。\n",
    "    A=M.T.dot(M)\n",
    "    B=M.T.dot(v)\n",
    "    z=sparse.linalg.spsolve(A,B)\n",
    "    #z最小的变成1\n",
    "    z = z - min(z)\n",
    "    depth=np.zeros((H,W))\n",
    "    for idx in range(no_pix):\n",
    "        # 2D图像中的位置\n",
    "        h = obj_h[idx]\n",
    "        w = obj_w[idx]\n",
    "        depth[h, w] = z[idx]\n",
    "    return depth"
   ]
  },
  {
   "cell_type": "markdown",
   "metadata": {},
   "source": [
    "## 4.保存深度图"
   ]
  },
  {
   "cell_type": "code",
   "execution_count": 10,
   "metadata": {},
   "outputs": [
    {
     "name": "stderr",
     "output_type": "stream",
     "text": [
      "<>:2: SyntaxWarning: \"is\" with a literal. Did you mean \"==\"?\n",
      "<>:2: SyntaxWarning: \"is\" with a literal. Did you mean \"==\"?\n",
      "/var/folders/wz/_wr6pzwx5y55_s2xfc7dzfhm0000gn/T/ipykernel_55605/3999285899.py:2: SyntaxWarning: \"is\" with a literal. Did you mean \"==\"?\n",
      "  if save_dir is \"\":\n"
     ]
    }
   ],
   "source": [
    "def save_depth(depth,save_dir=\"\"):\n",
    "    if save_dir is \"\":\n",
    "        raise Exception(\"FilePathNULL\")\n",
    "    h,w=depth.shape\n",
    "    f = open(save_dir, 'w')\n",
    "    for i in tqdm.tqdm(range(h)):\n",
    "        for j in range(w):\n",
    "            if depth[i, j] > 0:\n",
    "                seq = 'v' + ' ' + str(float(i)) + ' ' + str(float(j)) + ' ' + str(depth[i, j]) + '\\n'\n",
    "                f.writelines(seq)"
   ]
  },
  {
   "cell_type": "markdown",
   "metadata": {},
   "source": [
    "## 5.主函数"
   ]
  },
  {
   "cell_type": "code",
   "execution_count": 9,
   "metadata": {},
   "outputs": [
    {
     "name": "stdout",
     "output_type": "stream",
     "text": [
      "Start bearPNG\n",
      "-----normal images-----\n"
     ]
    },
    {
     "name": "stderr",
     "output_type": "stream",
     "text": [
      "100%|███████████████████████████████████████████| 96/96 [00:21<00:00,  4.53it/s]\n"
     ]
    },
    {
     "name": "stdout",
     "output_type": "stream",
     "text": [
      "-----compute normal-----\n",
      "(96, 512, 612, 3)\n",
      "(96, 512, 612)\n"
     ]
    },
    {
     "name": "stderr",
     "output_type": "stream",
     "text": [
      "100%|███████████████████████████████████████████| 96/96 [00:02<00:00, 42.99it/s]\n"
     ]
    },
    {
     "name": "stdout",
     "output_type": "stream",
     "text": [
      "(313344, 96)\n",
      "-----comput depth-----\n"
     ]
    },
    {
     "name": "stderr",
     "output_type": "stream",
     "text": [
      "100%|██████████████████████████████████| 41512/41512 [00:01<00:00, 34923.56it/s]\n",
      "100%|███████████████████████████████████████| 512/512 [00:00<00:00, 3521.04it/s]\n"
     ]
    },
    {
     "name": "stdout",
     "output_type": "stream",
     "text": [
      "Start cowPNG\n",
      "-----normal images-----\n"
     ]
    },
    {
     "name": "stderr",
     "output_type": "stream",
     "text": [
      "100%|███████████████████████████████████████████| 96/96 [00:21<00:00,  4.54it/s]\n"
     ]
    },
    {
     "name": "stdout",
     "output_type": "stream",
     "text": [
      "-----compute normal-----\n",
      "(96, 512, 612, 3)\n",
      "(96, 512, 612)\n"
     ]
    },
    {
     "name": "stderr",
     "output_type": "stream",
     "text": [
      "100%|███████████████████████████████████████████| 96/96 [00:02<00:00, 43.78it/s]\n"
     ]
    },
    {
     "name": "stdout",
     "output_type": "stream",
     "text": [
      "(313344, 96)\n",
      "-----comput depth-----\n"
     ]
    },
    {
     "name": "stderr",
     "output_type": "stream",
     "text": [
      "100%|██████████████████████████████████| 26421/26421 [00:00<00:00, 35363.51it/s]\n",
      "100%|███████████████████████████████████████| 512/512 [00:00<00:00, 4599.48it/s]\n"
     ]
    },
    {
     "name": "stdout",
     "output_type": "stream",
     "text": [
      "Start catPNG\n",
      "-----normal images-----\n"
     ]
    },
    {
     "name": "stderr",
     "output_type": "stream",
     "text": [
      "100%|███████████████████████████████████████████| 96/96 [00:21<00:00,  4.53it/s]\n"
     ]
    },
    {
     "name": "stdout",
     "output_type": "stream",
     "text": [
      "-----compute normal-----\n",
      "(96, 512, 612, 3)\n",
      "(96, 512, 612)\n"
     ]
    },
    {
     "name": "stderr",
     "output_type": "stream",
     "text": [
      "100%|███████████████████████████████████████████| 96/96 [00:02<00:00, 46.19it/s]\n"
     ]
    },
    {
     "name": "stdout",
     "output_type": "stream",
     "text": [
      "(313344, 96)\n",
      "-----comput depth-----\n"
     ]
    },
    {
     "name": "stderr",
     "output_type": "stream",
     "text": [
      "100%|██████████████████████████████████| 45200/45200 [00:01<00:00, 34873.59it/s]\n",
      "100%|███████████████████████████████████████| 512/512 [00:00<00:00, 3320.90it/s]\n"
     ]
    },
    {
     "name": "stdout",
     "output_type": "stream",
     "text": [
      "Start readingPNG\n",
      "-----normal images-----\n"
     ]
    },
    {
     "name": "stderr",
     "output_type": "stream",
     "text": [
      "100%|███████████████████████████████████████████| 96/96 [00:21<00:00,  4.55it/s]\n"
     ]
    },
    {
     "name": "stdout",
     "output_type": "stream",
     "text": [
      "-----compute normal-----\n",
      "(96, 512, 612, 3)\n",
      "(96, 512, 612)\n"
     ]
    },
    {
     "name": "stderr",
     "output_type": "stream",
     "text": [
      "100%|███████████████████████████████████████████| 96/96 [00:02<00:00, 46.31it/s]\n"
     ]
    },
    {
     "name": "stdout",
     "output_type": "stream",
     "text": [
      "(313344, 96)\n",
      "-----comput depth-----\n"
     ]
    },
    {
     "name": "stderr",
     "output_type": "stream",
     "text": [
      "100%|██████████████████████████████████| 27654/27654 [00:00<00:00, 34963.24it/s]\n",
      "100%|███████████████████████████████████████| 512/512 [00:00<00:00, 4500.35it/s]\n"
     ]
    },
    {
     "name": "stdout",
     "output_type": "stream",
     "text": [
      "Start pot1PNG\n",
      "-----normal images-----\n"
     ]
    },
    {
     "name": "stderr",
     "output_type": "stream",
     "text": [
      "100%|███████████████████████████████████████████| 96/96 [00:21<00:00,  4.51it/s]\n"
     ]
    },
    {
     "name": "stdout",
     "output_type": "stream",
     "text": [
      "-----compute normal-----\n",
      "(96, 512, 612, 3)\n",
      "(96, 512, 612)\n"
     ]
    },
    {
     "name": "stderr",
     "output_type": "stream",
     "text": [
      "100%|███████████████████████████████████████████| 96/96 [00:02<00:00, 45.39it/s]\n"
     ]
    },
    {
     "name": "stdout",
     "output_type": "stream",
     "text": [
      "(313344, 96)\n",
      "-----comput depth-----\n"
     ]
    },
    {
     "name": "stderr",
     "output_type": "stream",
     "text": [
      "100%|██████████████████████████████████| 57721/57721 [00:01<00:00, 34839.85it/s]\n",
      "100%|███████████████████████████████████████| 512/512 [00:00<00:00, 2841.19it/s]\n"
     ]
    },
    {
     "name": "stdout",
     "output_type": "stream",
     "text": [
      "Start ballPNG\n",
      "-----normal images-----\n"
     ]
    },
    {
     "name": "stderr",
     "output_type": "stream",
     "text": [
      "100%|███████████████████████████████████████████| 96/96 [00:21<00:00,  4.50it/s]\n"
     ]
    },
    {
     "name": "stdout",
     "output_type": "stream",
     "text": [
      "-----compute normal-----\n",
      "(96, 512, 612, 3)\n",
      "(96, 512, 612)\n"
     ]
    },
    {
     "name": "stderr",
     "output_type": "stream",
     "text": [
      "100%|███████████████████████████████████████████| 96/96 [00:02<00:00, 46.73it/s]\n"
     ]
    },
    {
     "name": "stdout",
     "output_type": "stream",
     "text": [
      "(313344, 96)\n",
      "-----comput depth-----\n"
     ]
    },
    {
     "name": "stderr",
     "output_type": "stream",
     "text": [
      "100%|██████████████████████████████████| 15791/15791 [00:00<00:00, 34989.50it/s]\n",
      "100%|███████████████████████████████████████| 512/512 [00:00<00:00, 5823.86it/s]\n"
     ]
    },
    {
     "name": "stdout",
     "output_type": "stream",
     "text": [
      "Start pot2PNG\n",
      "-----normal images-----\n"
     ]
    },
    {
     "name": "stderr",
     "output_type": "stream",
     "text": [
      "100%|███████████████████████████████████████████| 96/96 [00:21<00:00,  4.52it/s]\n"
     ]
    },
    {
     "name": "stdout",
     "output_type": "stream",
     "text": [
      "-----compute normal-----\n",
      "(96, 512, 612, 3)\n",
      "(96, 512, 612)\n"
     ]
    },
    {
     "name": "stderr",
     "output_type": "stream",
     "text": [
      "100%|███████████████████████████████████████████| 96/96 [00:01<00:00, 49.85it/s]\n"
     ]
    },
    {
     "name": "stdout",
     "output_type": "stream",
     "text": [
      "(313344, 96)\n",
      "-----comput depth-----\n"
     ]
    },
    {
     "name": "stderr",
     "output_type": "stream",
     "text": [
      "100%|██████████████████████████████████| 35278/35278 [00:00<00:00, 35325.73it/s]\n",
      "100%|███████████████████████████████████████| 512/512 [00:00<00:00, 3935.83it/s]\n"
     ]
    },
    {
     "name": "stdout",
     "output_type": "stream",
     "text": [
      "Start harvestPNG\n",
      "-----normal images-----\n"
     ]
    },
    {
     "name": "stderr",
     "output_type": "stream",
     "text": [
      "100%|███████████████████████████████████████████| 96/96 [00:21<00:00,  4.52it/s]\n"
     ]
    },
    {
     "name": "stdout",
     "output_type": "stream",
     "text": [
      "-----compute normal-----\n",
      "(96, 512, 612, 3)\n",
      "(96, 512, 612)\n"
     ]
    },
    {
     "name": "stderr",
     "output_type": "stream",
     "text": [
      "100%|███████████████████████████████████████████| 96/96 [00:01<00:00, 50.66it/s]\n"
     ]
    },
    {
     "name": "stdout",
     "output_type": "stream",
     "text": [
      "(313344, 96)\n",
      "-----comput depth-----\n"
     ]
    },
    {
     "name": "stderr",
     "output_type": "stream",
     "text": [
      "100%|██████████████████████████████████| 57342/57342 [00:01<00:00, 35332.43it/s]\n",
      "100%|███████████████████████████████████████| 512/512 [00:00<00:00, 2836.77it/s]\n"
     ]
    },
    {
     "name": "stdout",
     "output_type": "stream",
     "text": [
      "Start gobletPNG\n",
      "-----normal images-----\n"
     ]
    },
    {
     "name": "stderr",
     "output_type": "stream",
     "text": [
      "100%|███████████████████████████████████████████| 96/96 [00:21<00:00,  4.53it/s]\n"
     ]
    },
    {
     "name": "stdout",
     "output_type": "stream",
     "text": [
      "-----compute normal-----\n",
      "(96, 512, 612, 3)\n",
      "(96, 512, 612)\n"
     ]
    },
    {
     "name": "stderr",
     "output_type": "stream",
     "text": [
      "100%|███████████████████████████████████████████| 96/96 [00:02<00:00, 47.15it/s]\n"
     ]
    },
    {
     "name": "stdout",
     "output_type": "stream",
     "text": [
      "(313344, 96)\n",
      "-----comput depth-----\n"
     ]
    },
    {
     "name": "stderr",
     "output_type": "stream",
     "text": [
      "100%|██████████████████████████████████| 26193/26193 [00:00<00:00, 35356.29it/s]\n",
      "/Users/wangluming/miniforge3/lib/python3.9/site-packages/scipy/sparse/linalg/_dsolve/linsolve.py:206: MatrixRankWarning: Matrix is exactly singular\n",
      "  warn(\"Matrix is exactly singular\", MatrixRankWarning)\n",
      "100%|███████████████████████████████████████| 512/512 [00:00<00:00, 9493.78it/s]\n"
     ]
    },
    {
     "name": "stdout",
     "output_type": "stream",
     "text": [
      "Start buddhaPNG\n",
      "-----normal images-----\n"
     ]
    },
    {
     "name": "stderr",
     "output_type": "stream",
     "text": [
      "100%|███████████████████████████████████████████| 96/96 [00:21<00:00,  4.52it/s]\n"
     ]
    },
    {
     "name": "stdout",
     "output_type": "stream",
     "text": [
      "-----compute normal-----\n",
      "(96, 512, 612, 3)\n",
      "(96, 512, 612)\n"
     ]
    },
    {
     "name": "stderr",
     "output_type": "stream",
     "text": [
      "100%|███████████████████████████████████████████| 96/96 [00:02<00:00, 47.24it/s]\n"
     ]
    },
    {
     "name": "stdout",
     "output_type": "stream",
     "text": [
      "(313344, 96)\n",
      "-----comput depth-----\n"
     ]
    },
    {
     "name": "stderr",
     "output_type": "stream",
     "text": [
      "100%|██████████████████████████████████| 44864/44864 [00:01<00:00, 35183.70it/s]\n",
      "100%|███████████████████████████████████████| 512/512 [00:00<00:00, 3324.45it/s]\n"
     ]
    }
   ],
   "source": [
    "root=\"./DiLiGenT/pmsData/\"\n",
    "file_list=os.listdir(\"./DiLiGenT/pmsData/\")\n",
    "for i in range(len(file_list)):\n",
    "    if file_list[i][-3:]!= \"PNG\":\n",
    "        continue\n",
    "    else:\n",
    "        print(\"Start\",file_list[i])\n",
    "    if not os.path.exists(\"./result/\"+file_list[i]):\n",
    "        os.mkdir(\"./result/\"+file_list[i])\n",
    "    img_dir=os.path.join(root,file_list[i])\n",
    "    save_dir=\"./result/\"+file_list[i]+\"/depth\"+\".obj\"\n",
    "    dataset=Dataset(root=img_dir)\n",
    "    \n",
    "    print(\"-----图像归一化-----\")\n",
    "    dataset.normal_imags()\n",
    "    print(\"-----求解法向量图-----\")\n",
    "    N=get_normal(dataset.img,dataset.directions,dataset.background_ind)\n",
    "    print(\"-----恢复深度-----\")\n",
    "    depth=compute_depth(N,dataset.mask)\n",
    "    save_depth(depth,save_dir)\n",
    "    \n",
    "    #保存法向量图\n",
    "    N[:,:,0], N[:,:,2] = N[:,:,2], N[:,:,0].copy()\n",
    "    N = (N + 1.0) / 2.0\n",
    "    cv2.imwrite(\"./result/\"+file_list[i]+\"/normal.png\",N*255)"
   ]
  },
  {
   "cell_type": "code",
   "execution_count": null,
   "metadata": {},
   "outputs": [],
   "source": []
  }
 ],
 "metadata": {
  "interpreter": {
   "hash": "5d927dc926799e60da040a66fad171adb88ee16bf22818d05d7080f329057c67"
  },
  "kernelspec": {
   "display_name": "Python 3 (ipykernel)",
   "language": "python",
   "name": "python3"
  },
  "language_info": {
   "codemirror_mode": {
    "name": "ipython",
    "version": 3
   },
   "file_extension": ".py",
   "mimetype": "text/x-python",
   "name": "python",
   "nbconvert_exporter": "python",
   "pygments_lexer": "ipython3",
   "version": "3.9.10"
  },
  "varInspector": {
   "cols": {
    "lenName": 16,
    "lenType": 16,
    "lenVar": 40
   },
   "kernels_config": {
    "python": {
     "delete_cmd_postfix": "",
     "delete_cmd_prefix": "del ",
     "library": "var_list.py",
     "varRefreshCmd": "print(var_dic_list())"
    },
    "r": {
     "delete_cmd_postfix": ") ",
     "delete_cmd_prefix": "rm(",
     "library": "var_list.r",
     "varRefreshCmd": "cat(var_dic_list()) "
    }
   },
   "types_to_exclude": [
    "module",
    "function",
    "builtin_function_or_method",
    "instance",
    "_Feature"
   ],
   "window_display": false
  }
 },
 "nbformat": 4,
 "nbformat_minor": 2
}
